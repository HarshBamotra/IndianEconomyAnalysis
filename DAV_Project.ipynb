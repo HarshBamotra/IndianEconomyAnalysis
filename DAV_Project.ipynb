{
 "cells": [
  {
   "cell_type": "markdown",
   "id": "a3a9c9ec",
   "metadata": {},
   "source": [
    "# Data Analysis and Visualisation of Indian Economy \n",
    "<hr>\n",
    "\n",
    "#### Team Information : <br><br> 1. Harsh Bamotra (AC-1216) <br> 2. Shashank Kestwal (AC-1245)\n",
    "\n",
    "Teacher       : **Prof. Sharanjit Kaur** <br>\n",
    "Course        : **BSc. (H) Computer Science** <br>\n",
    "Semester/Year : **5th / 3nd Year** <br>\n",
    "College       : **Acharya Narendra Dev College** <br>"
   ]
  },
  {
   "cell_type": "markdown",
   "id": "37b700b0",
   "metadata": {},
   "source": [
    "**Importing required modules**"
   ]
  },
  {
   "cell_type": "code",
   "execution_count": 1,
   "id": "54303ac4",
   "metadata": {},
   "outputs": [],
   "source": [
    "import numpy as np\n",
    "import pandas as pd\n",
    "import matplotlib.pyplot as plt\n",
    "import seaborn as sns"
   ]
  },
  {
   "cell_type": "markdown",
   "id": "282deb14",
   "metadata": {},
   "source": [
    "**Reading data files**"
   ]
  },
  {
   "cell_type": "code",
   "execution_count": 2,
   "id": "5f192bcf",
   "metadata": {
    "scrolled": false
   },
   "outputs": [
    {
     "data": {
      "text/html": [
       "<div>\n",
       "<style scoped>\n",
       "    .dataframe tbody tr th:only-of-type {\n",
       "        vertical-align: middle;\n",
       "    }\n",
       "\n",
       "    .dataframe tbody tr th {\n",
       "        vertical-align: top;\n",
       "    }\n",
       "\n",
       "    .dataframe thead th {\n",
       "        text-align: right;\n",
       "    }\n",
       "</style>\n",
       "<table border=\"1\" class=\"dataframe\">\n",
       "  <thead>\n",
       "    <tr style=\"text-align: right;\">\n",
       "      <th></th>\n",
       "      <th>Items  Description</th>\n",
       "      <th>Duration</th>\n",
       "      <th>Andhra Pradesh</th>\n",
       "      <th>Arunachal Pradesh</th>\n",
       "      <th>Assam</th>\n",
       "      <th>Bihar</th>\n",
       "      <th>Chhattisgarh</th>\n",
       "      <th>Goa</th>\n",
       "      <th>Gujarat</th>\n",
       "      <th>Haryana</th>\n",
       "      <th>...</th>\n",
       "      <th>Telangana</th>\n",
       "      <th>Tripura</th>\n",
       "      <th>Uttar Pradesh</th>\n",
       "      <th>Uttarakhand</th>\n",
       "      <th>West Bengal1</th>\n",
       "      <th>Andaman &amp; Nicobar Islands</th>\n",
       "      <th>Chandigarh</th>\n",
       "      <th>Delhi</th>\n",
       "      <th>Puducherry</th>\n",
       "      <th>All_India GDP</th>\n",
       "    </tr>\n",
       "  </thead>\n",
       "  <tbody>\n",
       "    <tr>\n",
       "      <th>0</th>\n",
       "      <td>GSDP - CURRENT PRICES (` in Crore)</td>\n",
       "      <td>2011-12</td>\n",
       "      <td>379402.0</td>\n",
       "      <td>11063.0</td>\n",
       "      <td>143175.0</td>\n",
       "      <td>247144.0</td>\n",
       "      <td>158074.0</td>\n",
       "      <td>42367.0</td>\n",
       "      <td>615606.0</td>\n",
       "      <td>297539.0</td>\n",
       "      <td>...</td>\n",
       "      <td>359433.0</td>\n",
       "      <td>19208.0</td>\n",
       "      <td>724049.0</td>\n",
       "      <td>115523.0</td>\n",
       "      <td>NaN</td>\n",
       "      <td>3979.0</td>\n",
       "      <td>18768.0</td>\n",
       "      <td>343767.0</td>\n",
       "      <td>16818.0</td>\n",
       "      <td>8736039.0</td>\n",
       "    </tr>\n",
       "    <tr>\n",
       "      <th>1</th>\n",
       "      <td>GSDP - CURRENT PRICES (` in Crore)</td>\n",
       "      <td>2012-13</td>\n",
       "      <td>411404.0</td>\n",
       "      <td>12547.0</td>\n",
       "      <td>156864.0</td>\n",
       "      <td>282368.0</td>\n",
       "      <td>177511.0</td>\n",
       "      <td>38120.0</td>\n",
       "      <td>724495.0</td>\n",
       "      <td>347032.0</td>\n",
       "      <td>...</td>\n",
       "      <td>401493.0</td>\n",
       "      <td>21663.0</td>\n",
       "      <td>822903.0</td>\n",
       "      <td>131835.0</td>\n",
       "      <td>NaN</td>\n",
       "      <td>4421.0</td>\n",
       "      <td>21609.0</td>\n",
       "      <td>391238.0</td>\n",
       "      <td>18875.0</td>\n",
       "      <td>9946636.0</td>\n",
       "    </tr>\n",
       "    <tr>\n",
       "      <th>2</th>\n",
       "      <td>GSDP - CURRENT PRICES (` in Crore)</td>\n",
       "      <td>2013-14</td>\n",
       "      <td>464272.0</td>\n",
       "      <td>14602.0</td>\n",
       "      <td>177745.0</td>\n",
       "      <td>317101.0</td>\n",
       "      <td>206690.0</td>\n",
       "      <td>35921.0</td>\n",
       "      <td>807623.0</td>\n",
       "      <td>400662.0</td>\n",
       "      <td>...</td>\n",
       "      <td>452186.0</td>\n",
       "      <td>25593.0</td>\n",
       "      <td>944146.0</td>\n",
       "      <td>149817.0</td>\n",
       "      <td>NaN</td>\n",
       "      <td>5159.0</td>\n",
       "      <td>24787.0</td>\n",
       "      <td>443783.0</td>\n",
       "      <td>21870.0</td>\n",
       "      <td>11236635.0</td>\n",
       "    </tr>\n",
       "    <tr>\n",
       "      <th>3</th>\n",
       "      <td>GSDP - CURRENT PRICES (` in Crore)</td>\n",
       "      <td>2014-15</td>\n",
       "      <td>526468.0</td>\n",
       "      <td>16761.0</td>\n",
       "      <td>198098.0</td>\n",
       "      <td>373920.0</td>\n",
       "      <td>234982.0</td>\n",
       "      <td>40633.0</td>\n",
       "      <td>895027.0</td>\n",
       "      <td>437462.0</td>\n",
       "      <td>...</td>\n",
       "      <td>511178.0</td>\n",
       "      <td>29667.0</td>\n",
       "      <td>1043371.0</td>\n",
       "      <td>161985.0</td>\n",
       "      <td>NaN</td>\n",
       "      <td>5721.0</td>\n",
       "      <td>27844.0</td>\n",
       "      <td>492424.0</td>\n",
       "      <td>24089.0</td>\n",
       "      <td>12433749.0</td>\n",
       "    </tr>\n",
       "    <tr>\n",
       "      <th>4</th>\n",
       "      <td>GSDP - CURRENT PRICES (` in Crore)</td>\n",
       "      <td>2015-16</td>\n",
       "      <td>609934.0</td>\n",
       "      <td>18784.0</td>\n",
       "      <td>224234.0</td>\n",
       "      <td>413503.0</td>\n",
       "      <td>260776.0</td>\n",
       "      <td>45002.0</td>\n",
       "      <td>994316.0</td>\n",
       "      <td>485184.0</td>\n",
       "      <td>...</td>\n",
       "      <td>575631.0</td>\n",
       "      <td>NaN</td>\n",
       "      <td>1153795.0</td>\n",
       "      <td>184091.0</td>\n",
       "      <td>NaN</td>\n",
       "      <td>NaN</td>\n",
       "      <td>30304.0</td>\n",
       "      <td>551963.0</td>\n",
       "      <td>26533.0</td>\n",
       "      <td>13675331.0</td>\n",
       "    </tr>\n",
       "  </tbody>\n",
       "</table>\n",
       "<p>5 rows × 36 columns</p>\n",
       "</div>"
      ],
      "text/plain": [
       "                   Items  Description Duration  Andhra Pradesh   \\\n",
       "0  GSDP - CURRENT PRICES (` in Crore)  2011-12         379402.0   \n",
       "1  GSDP - CURRENT PRICES (` in Crore)  2012-13         411404.0   \n",
       "2  GSDP - CURRENT PRICES (` in Crore)  2013-14         464272.0   \n",
       "3  GSDP - CURRENT PRICES (` in Crore)  2014-15         526468.0   \n",
       "4  GSDP - CURRENT PRICES (` in Crore)  2015-16         609934.0   \n",
       "\n",
       "   Arunachal Pradesh     Assam     Bihar  Chhattisgarh      Goa   Gujarat  \\\n",
       "0            11063.0  143175.0  247144.0      158074.0  42367.0  615606.0   \n",
       "1            12547.0  156864.0  282368.0      177511.0  38120.0  724495.0   \n",
       "2            14602.0  177745.0  317101.0      206690.0  35921.0  807623.0   \n",
       "3            16761.0  198098.0  373920.0      234982.0  40633.0  895027.0   \n",
       "4            18784.0  224234.0  413503.0      260776.0  45002.0  994316.0   \n",
       "\n",
       "    Haryana  ...  Telangana  Tripura  Uttar Pradesh  Uttarakhand  \\\n",
       "0  297539.0  ...   359433.0  19208.0       724049.0     115523.0   \n",
       "1  347032.0  ...   401493.0  21663.0       822903.0     131835.0   \n",
       "2  400662.0  ...   452186.0  25593.0       944146.0     149817.0   \n",
       "3  437462.0  ...   511178.0  29667.0      1043371.0     161985.0   \n",
       "4  485184.0  ...   575631.0      NaN      1153795.0     184091.0   \n",
       "\n",
       "   West Bengal1  Andaman & Nicobar Islands  Chandigarh     Delhi  Puducherry  \\\n",
       "0           NaN                     3979.0     18768.0  343767.0     16818.0   \n",
       "1           NaN                     4421.0     21609.0  391238.0     18875.0   \n",
       "2           NaN                     5159.0     24787.0  443783.0     21870.0   \n",
       "3           NaN                     5721.0     27844.0  492424.0     24089.0   \n",
       "4           NaN                        NaN     30304.0  551963.0     26533.0   \n",
       "\n",
       "   All_India GDP  \n",
       "0      8736039.0  \n",
       "1      9946636.0  \n",
       "2     11236635.0  \n",
       "3     12433749.0  \n",
       "4     13675331.0  \n",
       "\n",
       "[5 rows x 36 columns]"
      ]
     },
     "execution_count": 2,
     "metadata": {},
     "output_type": "execute_result"
    }
   ],
   "source": [
    "sgdp = pd.read_csv(\"SGDP.csv\")\n",
    "sgdp.head()"
   ]
  },
  {
   "cell_type": "markdown",
   "id": "7453a070",
   "metadata": {},
   "source": [
    "**Getting information about the dataset**"
   ]
  },
  {
   "cell_type": "code",
   "execution_count": 3,
   "id": "e05e43cd",
   "metadata": {},
   "outputs": [
    {
     "data": {
      "text/plain": [
       "(11, 36)"
      ]
     },
     "execution_count": 3,
     "metadata": {},
     "output_type": "execute_result"
    }
   ],
   "source": [
    "sgdp.shape"
   ]
  },
  {
   "cell_type": "code",
   "execution_count": 4,
   "id": "63802c75",
   "metadata": {},
   "outputs": [
    {
     "data": {
      "text/plain": [
       "Index(['Items  Description', 'Duration', 'Andhra Pradesh ',\n",
       "       'Arunachal Pradesh', 'Assam', 'Bihar', 'Chhattisgarh', 'Goa', 'Gujarat',\n",
       "       'Haryana', 'Himachal Pradesh', 'Jammu & Kashmir', 'Jharkhand',\n",
       "       'Karnataka', 'Kerala', 'Madhya Pradesh', 'Maharashtra', 'Manipur',\n",
       "       'Meghalaya', 'Mizoram', 'Nagaland', 'Odisha', 'Punjab', 'Rajasthan',\n",
       "       'Sikkim', 'Tamil Nadu', 'Telangana', 'Tripura', 'Uttar Pradesh',\n",
       "       'Uttarakhand', 'West Bengal1', 'Andaman & Nicobar Islands',\n",
       "       'Chandigarh', 'Delhi', 'Puducherry', 'All_India GDP'],\n",
       "      dtype='object')"
      ]
     },
     "execution_count": 4,
     "metadata": {},
     "output_type": "execute_result"
    }
   ],
   "source": [
    "sgdp.columns"
   ]
  },
  {
   "cell_type": "code",
   "execution_count": 5,
   "id": "bee48e3d",
   "metadata": {},
   "outputs": [
    {
     "name": "stdout",
     "output_type": "stream",
     "text": [
      "<class 'pandas.core.frame.DataFrame'>\n",
      "RangeIndex: 11 entries, 0 to 10\n",
      "Data columns (total 36 columns):\n",
      " #   Column                     Non-Null Count  Dtype  \n",
      "---  ------                     --------------  -----  \n",
      " 0   Items  Description         11 non-null     object \n",
      " 1   Duration                   11 non-null     object \n",
      " 2   Andhra Pradesh             11 non-null     float64\n",
      " 3   Arunachal Pradesh          9 non-null      float64\n",
      " 4   Assam                      9 non-null      float64\n",
      " 5   Bihar                      9 non-null      float64\n",
      " 6   Chhattisgarh               11 non-null     float64\n",
      " 7   Goa                        9 non-null      float64\n",
      " 8   Gujarat                    9 non-null      float64\n",
      " 9   Haryana                    11 non-null     float64\n",
      " 10  Himachal Pradesh           7 non-null      float64\n",
      " 11  Jammu & Kashmir            9 non-null      float64\n",
      " 12  Jharkhand                  9 non-null      float64\n",
      " 13  Karnataka                  9 non-null      float64\n",
      " 14  Kerala                     9 non-null      float64\n",
      " 15  Madhya Pradesh             11 non-null     float64\n",
      " 16  Maharashtra                7 non-null      float64\n",
      " 17  Manipur                    7 non-null      float64\n",
      " 18  Meghalaya                  11 non-null     float64\n",
      " 19  Mizoram                    7 non-null      float64\n",
      " 20  Nagaland                   7 non-null      float64\n",
      " 21  Odisha                     11 non-null     float64\n",
      " 22  Punjab                     7 non-null      float64\n",
      " 23  Rajasthan                  7 non-null      float64\n",
      " 24  Sikkim                     9 non-null      float64\n",
      " 25  Tamil Nadu                 11 non-null     float64\n",
      " 26  Telangana                  11 non-null     float64\n",
      " 27  Tripura                    7 non-null      float64\n",
      " 28  Uttar Pradesh              9 non-null      float64\n",
      " 29  Uttarakhand                9 non-null      float64\n",
      " 30  West Bengal1               0 non-null      float64\n",
      " 31  Andaman & Nicobar Islands  7 non-null      float64\n",
      " 32  Chandigarh                 9 non-null      float64\n",
      " 33  Delhi                      11 non-null     float64\n",
      " 34  Puducherry                 11 non-null     float64\n",
      " 35  All_India GDP              11 non-null     float64\n",
      "dtypes: float64(34), object(2)\n",
      "memory usage: 3.2+ KB\n"
     ]
    }
   ],
   "source": [
    "sgdp.info()"
   ]
  },
  {
   "cell_type": "code",
   "execution_count": 6,
   "id": "37c86585",
   "metadata": {},
   "outputs": [
    {
     "data": {
      "text/html": [
       "<div>\n",
       "<style scoped>\n",
       "    .dataframe tbody tr th:only-of-type {\n",
       "        vertical-align: middle;\n",
       "    }\n",
       "\n",
       "    .dataframe tbody tr th {\n",
       "        vertical-align: top;\n",
       "    }\n",
       "\n",
       "    .dataframe thead th {\n",
       "        text-align: right;\n",
       "    }\n",
       "</style>\n",
       "<table border=\"1\" class=\"dataframe\">\n",
       "  <thead>\n",
       "    <tr style=\"text-align: right;\">\n",
       "      <th></th>\n",
       "      <th>Andhra Pradesh</th>\n",
       "      <th>Arunachal Pradesh</th>\n",
       "      <th>Assam</th>\n",
       "      <th>Bihar</th>\n",
       "      <th>Chhattisgarh</th>\n",
       "      <th>Goa</th>\n",
       "      <th>Gujarat</th>\n",
       "      <th>Haryana</th>\n",
       "      <th>Himachal Pradesh</th>\n",
       "      <th>Jammu &amp; Kashmir</th>\n",
       "      <th>...</th>\n",
       "      <th>Telangana</th>\n",
       "      <th>Tripura</th>\n",
       "      <th>Uttar Pradesh</th>\n",
       "      <th>Uttarakhand</th>\n",
       "      <th>West Bengal1</th>\n",
       "      <th>Andaman &amp; Nicobar Islands</th>\n",
       "      <th>Chandigarh</th>\n",
       "      <th>Delhi</th>\n",
       "      <th>Puducherry</th>\n",
       "      <th>All_India GDP</th>\n",
       "    </tr>\n",
       "  </thead>\n",
       "  <tbody>\n",
       "    <tr>\n",
       "      <th>count</th>\n",
       "      <td>11.000000</td>\n",
       "      <td>9.000000</td>\n",
       "      <td>9.000000</td>\n",
       "      <td>9.000000</td>\n",
       "      <td>11.000000</td>\n",
       "      <td>9.000000</td>\n",
       "      <td>9.000000</td>\n",
       "      <td>11.000000</td>\n",
       "      <td>7.000000</td>\n",
       "      <td>9.000000</td>\n",
       "      <td>...</td>\n",
       "      <td>11.000000</td>\n",
       "      <td>7.000000</td>\n",
       "      <td>9.000000e+00</td>\n",
       "      <td>9.000000</td>\n",
       "      <td>0.0</td>\n",
       "      <td>7.000000</td>\n",
       "      <td>9.000000</td>\n",
       "      <td>11.000000</td>\n",
       "      <td>11.000000</td>\n",
       "      <td>1.100000e+01</td>\n",
       "    </tr>\n",
       "    <tr>\n",
       "      <th>mean</th>\n",
       "      <td>280986.561818</td>\n",
       "      <td>8201.516667</td>\n",
       "      <td>100018.167778</td>\n",
       "      <td>181565.673333</td>\n",
       "      <td>120748.879091</td>\n",
       "      <td>22450.120000</td>\n",
       "      <td>448568.674444</td>\n",
       "      <td>228667.271818</td>\n",
       "      <td>50673.064286</td>\n",
       "      <td>53343.001111</td>\n",
       "      <td>...</td>\n",
       "      <td>268570.787273</td>\n",
       "      <td>13739.691429</td>\n",
       "      <td>5.209237e+05</td>\n",
       "      <td>82588.947778</td>\n",
       "      <td>NaN</td>\n",
       "      <td>2759.814286</td>\n",
       "      <td>13707.002222</td>\n",
       "      <td>258693.004545</td>\n",
       "      <td>12527.435455</td>\n",
       "      <td>6.479952e+06</td>\n",
       "    </tr>\n",
       "    <tr>\n",
       "      <th>std</th>\n",
       "      <td>282573.532407</td>\n",
       "      <td>8073.276061</td>\n",
       "      <td>97589.497456</td>\n",
       "      <td>178700.497677</td>\n",
       "      <td>120928.480448</td>\n",
       "      <td>21443.429799</td>\n",
       "      <td>438025.627165</td>\n",
       "      <td>228195.895576</td>\n",
       "      <td>48384.121107</td>\n",
       "      <td>51712.668467</td>\n",
       "      <td>...</td>\n",
       "      <td>268734.549079</td>\n",
       "      <td>13240.797263</td>\n",
       "      <td>5.087288e+05</td>\n",
       "      <td>80553.858327</td>\n",
       "      <td>NaN</td>\n",
       "      <td>2627.016700</td>\n",
       "      <td>13399.003286</td>\n",
       "      <td>258176.516280</td>\n",
       "      <td>12445.889343</td>\n",
       "      <td>6.433000e+06</td>\n",
       "    </tr>\n",
       "    <tr>\n",
       "      <th>min</th>\n",
       "      <td>8.430000</td>\n",
       "      <td>12.070000</td>\n",
       "      <td>9.560000</td>\n",
       "      <td>10.590000</td>\n",
       "      <td>10.980000</td>\n",
       "      <td>-10.020000</td>\n",
       "      <td>10.820000</td>\n",
       "      <td>9.180000</td>\n",
       "      <td>10.140000</td>\n",
       "      <td>4.700000</td>\n",
       "      <td>...</td>\n",
       "      <td>11.700000</td>\n",
       "      <td>12.780000</td>\n",
       "      <td>1.051000e+01</td>\n",
       "      <td>8.120000</td>\n",
       "      <td>NaN</td>\n",
       "      <td>10.890000</td>\n",
       "      <td>8.840000</td>\n",
       "      <td>10.960000</td>\n",
       "      <td>10.140000</td>\n",
       "      <td>9.990000e+00</td>\n",
       "    </tr>\n",
       "    <tr>\n",
       "      <th>25%</th>\n",
       "      <td>14.025000</td>\n",
       "      <td>14.790000</td>\n",
       "      <td>13.190000</td>\n",
       "      <td>14.250000</td>\n",
       "      <td>12.995000</td>\n",
       "      <td>10.750000</td>\n",
       "      <td>11.470000</td>\n",
       "      <td>14.135000</td>\n",
       "      <td>14.155000</td>\n",
       "      <td>11.310000</td>\n",
       "      <td>...</td>\n",
       "      <td>12.840000</td>\n",
       "      <td>17.030000</td>\n",
       "      <td>1.365000e+01</td>\n",
       "      <td>13.650000</td>\n",
       "      <td>NaN</td>\n",
       "      <td>13.905000</td>\n",
       "      <td>14.710000</td>\n",
       "      <td>13.095000</td>\n",
       "      <td>11.815000</td>\n",
       "      <td>1.224500e+01</td>\n",
       "    </tr>\n",
       "    <tr>\n",
       "      <th>50%</th>\n",
       "      <td>379402.000000</td>\n",
       "      <td>11063.000000</td>\n",
       "      <td>143175.000000</td>\n",
       "      <td>247144.000000</td>\n",
       "      <td>158074.000000</td>\n",
       "      <td>35921.000000</td>\n",
       "      <td>615606.000000</td>\n",
       "      <td>297539.000000</td>\n",
       "      <td>72720.000000</td>\n",
       "      <td>78254.000000</td>\n",
       "      <td>...</td>\n",
       "      <td>359433.000000</td>\n",
       "      <td>19208.000000</td>\n",
       "      <td>7.240490e+05</td>\n",
       "      <td>115523.000000</td>\n",
       "      <td>NaN</td>\n",
       "      <td>3979.000000</td>\n",
       "      <td>18768.000000</td>\n",
       "      <td>343767.000000</td>\n",
       "      <td>16818.000000</td>\n",
       "      <td>8.736039e+06</td>\n",
       "    </tr>\n",
       "    <tr>\n",
       "      <th>75%</th>\n",
       "      <td>495370.000000</td>\n",
       "      <td>14602.000000</td>\n",
       "      <td>177745.000000</td>\n",
       "      <td>317101.000000</td>\n",
       "      <td>220836.000000</td>\n",
       "      <td>40633.000000</td>\n",
       "      <td>807623.000000</td>\n",
       "      <td>419062.000000</td>\n",
       "      <td>88792.000000</td>\n",
       "      <td>95893.000000</td>\n",
       "      <td>...</td>\n",
       "      <td>481682.000000</td>\n",
       "      <td>23628.000000</td>\n",
       "      <td>9.441460e+05</td>\n",
       "      <td>149817.000000</td>\n",
       "      <td>NaN</td>\n",
       "      <td>4790.000000</td>\n",
       "      <td>24787.000000</td>\n",
       "      <td>468103.500000</td>\n",
       "      <td>22979.500000</td>\n",
       "      <td>1.183519e+07</td>\n",
       "    </tr>\n",
       "    <tr>\n",
       "      <th>max</th>\n",
       "      <td>699307.000000</td>\n",
       "      <td>18784.000000</td>\n",
       "      <td>224234.000000</td>\n",
       "      <td>413503.000000</td>\n",
       "      <td>290140.000000</td>\n",
       "      <td>45002.000000</td>\n",
       "      <td>994316.000000</td>\n",
       "      <td>547396.000000</td>\n",
       "      <td>104369.000000</td>\n",
       "      <td>118387.000000</td>\n",
       "      <td>...</td>\n",
       "      <td>654294.000000</td>\n",
       "      <td>29667.000000</td>\n",
       "      <td>1.153795e+06</td>\n",
       "      <td>184091.000000</td>\n",
       "      <td>NaN</td>\n",
       "      <td>5721.000000</td>\n",
       "      <td>30304.000000</td>\n",
       "      <td>622385.000000</td>\n",
       "      <td>29557.000000</td>\n",
       "      <td>1.525103e+07</td>\n",
       "    </tr>\n",
       "  </tbody>\n",
       "</table>\n",
       "<p>8 rows × 34 columns</p>\n",
       "</div>"
      ],
      "text/plain": [
       "       Andhra Pradesh   Arunachal Pradesh          Assam          Bihar  \\\n",
       "count        11.000000           9.000000       9.000000       9.000000   \n",
       "mean     280986.561818        8201.516667  100018.167778  181565.673333   \n",
       "std      282573.532407        8073.276061   97589.497456  178700.497677   \n",
       "min           8.430000          12.070000       9.560000      10.590000   \n",
       "25%          14.025000          14.790000      13.190000      14.250000   \n",
       "50%      379402.000000       11063.000000  143175.000000  247144.000000   \n",
       "75%      495370.000000       14602.000000  177745.000000  317101.000000   \n",
       "max      699307.000000       18784.000000  224234.000000  413503.000000   \n",
       "\n",
       "        Chhattisgarh           Goa        Gujarat        Haryana  \\\n",
       "count      11.000000      9.000000       9.000000      11.000000   \n",
       "mean   120748.879091  22450.120000  448568.674444  228667.271818   \n",
       "std    120928.480448  21443.429799  438025.627165  228195.895576   \n",
       "min        10.980000    -10.020000      10.820000       9.180000   \n",
       "25%        12.995000     10.750000      11.470000      14.135000   \n",
       "50%    158074.000000  35921.000000  615606.000000  297539.000000   \n",
       "75%    220836.000000  40633.000000  807623.000000  419062.000000   \n",
       "max    290140.000000  45002.000000  994316.000000  547396.000000   \n",
       "\n",
       "       Himachal Pradesh  Jammu & Kashmir  ...      Telangana       Tripura  \\\n",
       "count          7.000000         9.000000  ...      11.000000      7.000000   \n",
       "mean       50673.064286     53343.001111  ...  268570.787273  13739.691429   \n",
       "std        48384.121107     51712.668467  ...  268734.549079  13240.797263   \n",
       "min           10.140000         4.700000  ...      11.700000     12.780000   \n",
       "25%           14.155000        11.310000  ...      12.840000     17.030000   \n",
       "50%        72720.000000     78254.000000  ...  359433.000000  19208.000000   \n",
       "75%        88792.000000     95893.000000  ...  481682.000000  23628.000000   \n",
       "max       104369.000000    118387.000000  ...  654294.000000  29667.000000   \n",
       "\n",
       "       Uttar Pradesh    Uttarakhand  West Bengal1  Andaman & Nicobar Islands  \\\n",
       "count   9.000000e+00       9.000000           0.0                   7.000000   \n",
       "mean    5.209237e+05   82588.947778           NaN                2759.814286   \n",
       "std     5.087288e+05   80553.858327           NaN                2627.016700   \n",
       "min     1.051000e+01       8.120000           NaN                  10.890000   \n",
       "25%     1.365000e+01      13.650000           NaN                  13.905000   \n",
       "50%     7.240490e+05  115523.000000           NaN                3979.000000   \n",
       "75%     9.441460e+05  149817.000000           NaN                4790.000000   \n",
       "max     1.153795e+06  184091.000000           NaN                5721.000000   \n",
       "\n",
       "         Chandigarh          Delhi    Puducherry  All_India GDP  \n",
       "count      9.000000      11.000000     11.000000   1.100000e+01  \n",
       "mean   13707.002222  258693.004545  12527.435455   6.479952e+06  \n",
       "std    13399.003286  258176.516280  12445.889343   6.433000e+06  \n",
       "min        8.840000      10.960000     10.140000   9.990000e+00  \n",
       "25%       14.710000      13.095000     11.815000   1.224500e+01  \n",
       "50%    18768.000000  343767.000000  16818.000000   8.736039e+06  \n",
       "75%    24787.000000  468103.500000  22979.500000   1.183519e+07  \n",
       "max    30304.000000  622385.000000  29557.000000   1.525103e+07  \n",
       "\n",
       "[8 rows x 34 columns]"
      ]
     },
     "execution_count": 6,
     "metadata": {},
     "output_type": "execute_result"
    }
   ],
   "source": [
    "sgdp.describe()"
   ]
  },
  {
   "cell_type": "markdown",
   "id": "ea5f6e87",
   "metadata": {},
   "source": [
    "## Data cleaning and pre-processing \n",
    "-----------------------------------------------\n",
    "### Handling missing values"
   ]
  },
  {
   "cell_type": "markdown",
   "id": "61835664",
   "metadata": {},
   "source": [
    "*Checking for missing or Nan values*"
   ]
  },
  {
   "cell_type": "code",
   "execution_count": 7,
   "id": "eb9c096e",
   "metadata": {
    "scrolled": false
   },
   "outputs": [
    {
     "data": {
      "text/plain": [
       "Items  Description            0\n",
       "Duration                      0\n",
       "Andhra Pradesh                0\n",
       "Arunachal Pradesh             2\n",
       "Assam                         2\n",
       "Bihar                         2\n",
       "Chhattisgarh                  0\n",
       "Goa                           2\n",
       "Gujarat                       2\n",
       "Haryana                       0\n",
       "Himachal Pradesh              4\n",
       "Jammu & Kashmir               2\n",
       "Jharkhand                     2\n",
       "Karnataka                     2\n",
       "Kerala                        2\n",
       "Madhya Pradesh                0\n",
       "Maharashtra                   4\n",
       "Manipur                       4\n",
       "Meghalaya                     0\n",
       "Mizoram                       4\n",
       "Nagaland                      4\n",
       "Odisha                        0\n",
       "Punjab                        4\n",
       "Rajasthan                     4\n",
       "Sikkim                        2\n",
       "Tamil Nadu                    0\n",
       "Telangana                     0\n",
       "Tripura                       4\n",
       "Uttar Pradesh                 2\n",
       "Uttarakhand                   2\n",
       "West Bengal1                 11\n",
       "Andaman & Nicobar Islands     4\n",
       "Chandigarh                    2\n",
       "Delhi                         0\n",
       "Puducherry                    0\n",
       "All_India GDP                 0\n",
       "dtype: int64"
      ]
     },
     "execution_count": 7,
     "metadata": {},
     "output_type": "execute_result"
    }
   ],
   "source": [
    "sgdp.isna().sum()"
   ]
  },
  {
   "cell_type": "markdown",
   "id": "f0ca68fa",
   "metadata": {},
   "source": [
    "*Missing value percentage in the dataset*"
   ]
  },
  {
   "cell_type": "code",
   "execution_count": 8,
   "id": "0cd5d4e7",
   "metadata": {},
   "outputs": [
    {
     "data": {
      "text/plain": [
       "Items  Description             0.000000\n",
       "Duration                       0.000000\n",
       "Andhra Pradesh                 0.000000\n",
       "Arunachal Pradesh             18.181818\n",
       "Assam                         18.181818\n",
       "Bihar                         18.181818\n",
       "Chhattisgarh                   0.000000\n",
       "Goa                           18.181818\n",
       "Gujarat                       18.181818\n",
       "Haryana                        0.000000\n",
       "Himachal Pradesh              36.363636\n",
       "Jammu & Kashmir               18.181818\n",
       "Jharkhand                     18.181818\n",
       "Karnataka                     18.181818\n",
       "Kerala                        18.181818\n",
       "Madhya Pradesh                 0.000000\n",
       "Maharashtra                   36.363636\n",
       "Manipur                       36.363636\n",
       "Meghalaya                      0.000000\n",
       "Mizoram                       36.363636\n",
       "Nagaland                      36.363636\n",
       "Odisha                         0.000000\n",
       "Punjab                        36.363636\n",
       "Rajasthan                     36.363636\n",
       "Sikkim                        18.181818\n",
       "Tamil Nadu                     0.000000\n",
       "Telangana                      0.000000\n",
       "Tripura                       36.363636\n",
       "Uttar Pradesh                 18.181818\n",
       "Uttarakhand                   18.181818\n",
       "West Bengal1                 100.000000\n",
       "Andaman & Nicobar Islands     36.363636\n",
       "Chandigarh                    18.181818\n",
       "Delhi                          0.000000\n",
       "Puducherry                     0.000000\n",
       "All_India GDP                  0.000000\n",
       "dtype: float64"
      ]
     },
     "execution_count": 8,
     "metadata": {},
     "output_type": "execute_result"
    }
   ],
   "source": [
    "sgdp.isna().sum()/len(sgdp)*100"
   ]
  },
  {
   "cell_type": "markdown",
   "id": "1b8b0004",
   "metadata": {},
   "source": [
    "*Dropping attribute with 100% missing or Nan values from the dataset*"
   ]
  },
  {
   "cell_type": "code",
   "execution_count": 10,
   "id": "f9910482",
   "metadata": {
    "scrolled": true
   },
   "outputs": [
    {
     "data": {
      "text/plain": [
       "(11, 35)"
      ]
     },
     "execution_count": 10,
     "metadata": {},
     "output_type": "execute_result"
    }
   ],
   "source": [
    "sgdp = sgdp.dropna(axis=1, how = \"all\")\n",
    "sgdp.shape"
   ]
  },
  {
   "cell_type": "markdown",
   "id": "9558298c",
   "metadata": {},
   "source": [
    "### Data Transformation"
   ]
  },
  {
   "cell_type": "markdown",
   "id": "f25f8862",
   "metadata": {},
   "source": [
    "*Checking for duplicate data*"
   ]
  },
  {
   "cell_type": "code",
   "execution_count": 14,
   "id": "414ff65a",
   "metadata": {},
   "outputs": [
    {
     "data": {
      "text/plain": [
       "0     False\n",
       "1     False\n",
       "2     False\n",
       "3     False\n",
       "4     False\n",
       "5     False\n",
       "6     False\n",
       "7     False\n",
       "8     False\n",
       "9     False\n",
       "10    False\n",
       "dtype: bool"
      ]
     },
     "execution_count": 14,
     "metadata": {},
     "output_type": "execute_result"
    }
   ],
   "source": [
    "sgdp.duplicated()"
   ]
  },
  {
   "cell_type": "markdown",
   "id": "35906fd4",
   "metadata": {},
   "source": [
    "*No duplicate values present in the dataset*"
   ]
  },
  {
   "cell_type": "markdown",
   "id": "12fb8315",
   "metadata": {},
   "source": [
    "## Data analysis and visualization "
   ]
  },
  {
   "cell_type": "code",
   "execution_count": 42,
   "id": "a3efd876",
   "metadata": {},
   "outputs": [
    {
     "data": {
      "text/plain": [
       "<AxesSubplot: >"
      ]
     },
     "execution_count": 42,
     "metadata": {},
     "output_type": "execute_result"
    },
    {
     "data": {
      "image/png": "[encoded data removed]",
      "text/plain": [
       "<Figure size 640x480 with 1 Axes>"
      ]
     },
     "metadata": {},
     "output_type": "display_data"
    }
   ],
   "source": [
    "sgdp.iloc[6:,2:35].mean().round(2).sort_values().plot.bar(stacked = True)"
   ]
  },
  {
   "cell_type": "code",
   "execution_count": null,
   "id": "aa184661",
   "metadata": {},
   "outputs": [],
   "source": []
  }
 ],
 "metadata": {
  "kernelspec": {
   "display_name": "Python 3 (ipykernel)",
   "language": "python",
   "name": "python3"
  },
  "language_info": {
   "codemirror_mode": {
    "name": "ipython",
    "version": 3
   },
   "file_extension": ".py",
   "mimetype": "text/x-python",
   "name": "python",
   "nbconvert_exporter": "python",
   "pygments_lexer": "ipython3",
   "version": "3.10.6"
  }
 },
 "nbformat": 4,
 "nbformat_minor": 5
}
